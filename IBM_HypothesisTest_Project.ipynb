{
  "nbformat": 4,
  "nbformat_minor": 0,
  "metadata": {
    "colab": {
      "name": "UFC_analysis.ipynb",
      "private_outputs": true,
      "provenance": [],
      "collapsed_sections": [],
      "authorship_tag": "ABX9TyNs4Pu04l/j+tnPSGn/1kVf",
      "include_colab_link": true
    },
    "kernelspec": {
      "name": "python3",
      "display_name": "Python 3"
    }
  },
  "cells": [
    {
      "cell_type": "markdown",
      "metadata": {
        "id": "view-in-github",
        "colab_type": "text"
      },
      "source": [
        "<a href=\"https://colab.research.google.com/github/Davilirio/Neural-Nets/blob/master/IBM_HypothesisTest_Project.ipynb\" target=\"_parent\"><img src=\"https://colab.research.google.com/assets/colab-badge.svg\" alt=\"Open In Colab\"/></a>"
      ]
    },
    {
      "cell_type": "code",
      "metadata": {
        "id": "J3UHFF724dcv"
      },
      "source": [
        "import os\n",
        "import scipy\n",
        "import numpy as np\n",
        "import pandas as pd\n",
        "import matplotlib.pyplot as plt\n",
        "import seaborn as sns\n",
        "from pathlib import  Path\n",
        "from google.colab import drive, files \n",
        "from scipy.stats import binom\n",
        "from scipy.stats import norm\n",
        "import math\n",
        "\n",
        "plt.style.use('seaborn-dark')"
      ],
      "execution_count": null,
      "outputs": []
    },
    {
      "cell_type": "code",
      "metadata": {
        "id": "QiomZ6_O4lWj"
      },
      "source": [
        "drive.mount('/content/my_drive')"
      ],
      "execution_count": null,
      "outputs": []
    },
    {
      "cell_type": "code",
      "metadata": {
        "id": "KRkEflM_4n7q"
      },
      "source": [
        "data_path = Path('/content/my_drive/MyDrive/data_science_stuff/datasets/UFC')"
      ],
      "execution_count": null,
      "outputs": []
    },
    {
      "cell_type": "code",
      "metadata": {
        "id": "zB16IUOA47Ni"
      },
      "source": [
        "os.listdir(data_path)"
      ],
      "execution_count": null,
      "outputs": []
    },
    {
      "cell_type": "code",
      "metadata": {
        "id": "vaJUlA2H48ad"
      },
      "source": [
        "df=pd.read_csv(data_path/'ufc-master.csv')\n",
        "\n",
        "df.columns = df.columns.str.lower()\n",
        "df.rename(columns={'r_fighter':'red_corner', 'b_fighter':'blue_corner',\n",
        "                   'no_of_rounds':'nbr_rounds'})\n",
        "df['date'] = pd.to_datetime(df['date'])\n",
        "df['red_wins'] = np.where(df['winner'] == 'Red',1,0)\n",
        "df['blue_wins'] = np.abs(1-df['red_wins'])\n",
        "df.head()"
      ],
      "execution_count": null,
      "outputs": []
    },
    {
      "cell_type": "code",
      "metadata": {
        "id": "c0SstYW7JbmM"
      },
      "source": [
        "df_stats = df.describe()\n",
        "df_stats"
      ],
      "execution_count": null,
      "outputs": []
    },
    {
      "cell_type": "code",
      "metadata": {
        "id": "fmPe5QtpMT9L"
      },
      "source": [
        "fig, ax = plt.subplots(figsize=(8,8))\n",
        "\n",
        "ax.set_title('Odd Distribuition', size=14)\n",
        "sns.histplot(df['b_odds'], color = 'Blue', alpha = 0.5, ax = ax, label='Blue Corner Odds'),\n",
        "sns.histplot(df['r_odds'], alpha = 0.5, ax=ax, label='Red Corner Odds')\n",
        "\n",
        "ax.legend(fontsize=12)\n",
        "ax.set_xlabel('Odds', size=12)\n",
        "fig.show()"
      ],
      "execution_count": null,
      "outputs": []
    },
    {
      "cell_type": "code",
      "metadata": {
        "id": "0YymQNJILVzo"
      },
      "source": [
        "df_wstk_b = pd.DataFrame(df.loc[df['blue_wins']==1].groupby('b_current_win_streak')['blue_wins'].count())\n",
        "df_wstk_b.reset_index(inplace=True)\n",
        "df_wstk_b.rename(columns={'b_current_win_streak':'winstreak', 'blue_wins':'bwins'},\n",
        "                 inplace=True)\n",
        "\n",
        "df_wstk_r = pd.DataFrame(df.loc[df['red_wins']==1].groupby('r_current_win_streak')['red_wins'].count())\n",
        "df_wstk_r.reset_index(inplace=True)\n",
        "df_wstk_r.rename(columns={'r_current_win_streak':'winstreak', 'red_wins':'rwins'},\n",
        "                 inplace=True)\n",
        "\n",
        "df_wstk=df_wstk_b.merge(df_wstk_r, how='left', on='winstreak')\n",
        "df_wstk['total_wins'] = df_wstk['bwins']+df_wstk['rwins']\n",
        "df_wstk['bwins'] = df_wstk['bwins']/df_wstk['total_wins']\n",
        "df_wstk['rwins'] = df_wstk['rwins']/df_wstk['total_wins']"
      ],
      "execution_count": null,
      "outputs": []
    },
    {
      "cell_type": "code",
      "metadata": {
        "id": "lpBwluPeRNaw"
      },
      "source": [
        "total_df = pd.DataFrame(df.groupby('b_current_win_streak')['blue_wins'].count()).reset_index()\n",
        "total_df.rename(columns={'b_current_win_streak':'winstreak',\n",
        "                         'blue_wins':'total_wins'}, inplace=True)\n",
        "\n",
        "df_wstk_b =df_wstk_b.merge(total_df, how='left', on='winstreak',) \n",
        "df_wstk_b['b_pct_win'] = df_wstk_b['bwins']/df_wstk_b['total_wins']*100"
      ],
      "execution_count": null,
      "outputs": []
    },
    {
      "cell_type": "code",
      "metadata": {
        "id": "VTMZfq5sRCsD"
      },
      "source": [
        "total_df = pd.DataFrame(df.groupby('r_current_win_streak')['red_wins'].count()).reset_index()\n",
        "total_df.rename(columns={'r_current_win_streak':'winstreak',\n",
        "                         'red_wins':'total_wins'}, inplace=True)\n",
        "\n",
        "df_wstk_r = df_wstk_r.merge(total_df, how='left', on='winstreak')\n",
        "df_wstk_r['r_pct_win'] = df_wstk_r['rwins']/df_wstk_r['total_wins']*100"
      ],
      "execution_count": null,
      "outputs": []
    },
    {
      "cell_type": "code",
      "metadata": {
        "id": "FAHmGx_4MHsM"
      },
      "source": [
        "df_wstk"
      ],
      "execution_count": null,
      "outputs": []
    },
    {
      "cell_type": "code",
      "metadata": {
        "id": "KB7dH8B_lJQC"
      },
      "source": [
        "corr=np.corrcoef(df_wstk['winstreak'], df_wstk['rwins'])[0,1]"
      ],
      "execution_count": null,
      "outputs": []
    },
    {
      "cell_type": "code",
      "metadata": {
        "id": "6yKP4iu4oZy0"
      },
      "source": [
        "scipy.stats.linregress(y=df_wstk['rwins'], x=df_wstk['winstreak'])"
      ],
      "execution_count": null,
      "outputs": []
    },
    {
      "cell_type": "code",
      "metadata": {
        "id": "irRwXEgJmNQm"
      },
      "source": [
        "assert scipy.stats.linregress(y=df_wstk['rwins'], x=df_wstk['winstreak']).pvalue < 0.05"
      ],
      "execution_count": null,
      "outputs": []
    },
    {
      "cell_type": "code",
      "metadata": {
        "id": "hN5I0YXtlTnw"
      },
      "source": [
        "ppf = norm.ppf(0.95)\n",
        "\n",
        "assert red_corr > ppf"
      ],
      "execution_count": null,
      "outputs": []
    },
    {
      "cell_type": "code",
      "metadata": {
        "id": "RZRchluXj5_V"
      },
      "source": [
        "fig, ax = plt.subplots(figsize=(8,6))\n",
        "\n",
        "sns.scatterplot(ax=ax, x='winstreak',y='rwins', data=df_wstk)\n",
        "ax.set_ylabel('Red Win Prob.')\n",
        "ax.set_title('Winstreak x Win Prob')\n",
        "\n",
        "fig.show()"
      ],
      "execution_count": null,
      "outputs": []
    },
    {
      "cell_type": "markdown",
      "metadata": {
        "id": "ncFPrDBe6Q-M"
      },
      "source": [
        "### Exploratory Data Analysis of the UFC Dataset"
      ]
    },
    {
      "cell_type": "markdown",
      "metadata": {
        "id": "Uh098NerVILv"
      },
      "source": [
        "### We will check if being on the red corner makes you more probable to win (favorite), if winstreaks impact directly on winrates and if total round fought impact on win ratio as well"
      ]
    },
    {
      "cell_type": "code",
      "metadata": {
        "id": "7y2EBXwx5tz9"
      },
      "source": [
        "sns.set_palette(sns.color_palette(['red', 'blue']))\n",
        "sns.histplot(df,x='winner',hue='winner',stat='density')\n",
        "plt.title('Winner per Corner', size=14);"
      ],
      "execution_count": null,
      "outputs": []
    },
    {
      "cell_type": "code",
      "metadata": {
        "id": "XKPJmzjQGcqv"
      },
      "source": [
        "red_wins = len(df.loc[df['winner']=='Red'])\n",
        "blue_wins = len(df.loc[df['winner']=='Blue'])\n",
        "df_size = len(df)"
      ],
      "execution_count": null,
      "outputs": []
    },
    {
      "cell_type": "code",
      "metadata": {
        "id": "_bq7r7A7H8G_"
      },
      "source": [
        "df_size"
      ],
      "execution_count": null,
      "outputs": []
    },
    {
      "cell_type": "code",
      "metadata": {
        "id": "ZJFGM4NtGviS"
      },
      "source": [
        "prob_red_favorite = red_wins/(red_wins+blue_wins)\n",
        "prob_red_favorite"
      ],
      "execution_count": null,
      "outputs": []
    },
    {
      "cell_type": "markdown",
      "metadata": {
        "id": "DKvIpF2BHXbR"
      },
      "source": [
        "#### We supose that red is favorite, but for checking we will test the hypothesis that the probability of winning is 50/50, knowing that we have a significant sample of the population. \n",
        "- H0: The corner does not matter (probability of red winning == 0.5)\n",
        "- H1: The corner does matter and red is favorite (probability of red winning >= 0.5)"
      ]
    },
    {
      "cell_type": "code",
      "metadata": {
        "id": "wBKpbej-HUlP"
      },
      "source": [
        "wins_to_favor = binom.ppf(0.95, df_size, 0.5) + 1\n",
        "assert red_wins > wins_to_favor"
      ],
      "execution_count": null,
      "outputs": []
    },
    {
      "cell_type": "code",
      "metadata": {
        "id": "0fOF0x6zIcsP"
      },
      "source": [
        "p_value_red = (1 - binom.cdf(red_wins, df_size, 0.5))\n",
        "max_p = 0.05\n",
        "\n",
        "print(f'We have that the probability of that amount of wins happening by chance \\\n",
        "is {p_value_red}, which is smaller than our p_value of {max_p}')"
      ],
      "execution_count": null,
      "outputs": []
    },
    {
      "cell_type": "code",
      "metadata": {
        "id": "oZjhCVVo7Nlk"
      },
      "source": [
        "sns.regplot(data=df_wstk_b, x='winstreak', y='b_pct_win',color='blue')\n",
        "plt.ylabel('Winrate', size=12)\n",
        "plt.title('Blue Winstreak - Winrate', size=14);"
      ],
      "execution_count": null,
      "outputs": []
    },
    {
      "cell_type": "code",
      "metadata": {
        "id": "nYoGUodzKoHW"
      },
      "source": [
        "sns.regplot(data=df_wstk_r, x='winstreak', y='r_pct_win', color='red')\n",
        "plt.ylabel('Winrate', size=12)\n",
        "plt.title('Red Winstreak - Winrate', size=14);"
      ],
      "execution_count": null,
      "outputs": []
    },
    {
      "cell_type": "code",
      "metadata": {
        "id": "6BK-fJTeT7pW"
      },
      "source": [
        "weight_class_df = df.groupby('weight_class').mean()\n",
        "weight_class_df.head()"
      ],
      "execution_count": null,
      "outputs": []
    },
    {
      "cell_type": "markdown",
      "metadata": {
        "id": "Px8Cbi8aGDG8"
      },
      "source": [
        ""
      ]
    },
    {
      "cell_type": "code",
      "metadata": {
        "id": "HjqXHph84RS0"
      },
      "source": [
        "sns.regplot(x = 'r_weight_lbs', y = 'total_fight_time_secs',\n",
        "            data=weight_class_df, color = 'purple'\n",
        "            )\n",
        "plt.xlabel('Weight')\n",
        "plt.ylabel('Mean Fight Time (s)')\n",
        "plt.title('Fight Time per Weight Class');"
      ],
      "execution_count": null,
      "outputs": []
    },
    {
      "cell_type": "code",
      "metadata": {
        "id": "2m75-ZAfGVuI"
      },
      "source": [
        "sns.histplot(df['b_avg_sig_str_landed'], color='blue', bins=15,\n",
        "             alpha= 0.4,label='Blue Corner', stat='density')\n",
        "\n",
        "sns.histplot(df['r_avg_sig_str_landed'], color='red', bins=15,\n",
        "             alpha= 0.4, label='Red Corner', stat='density')\n",
        "\n",
        "plt.title('Distribuition of Significant Strikes', size=14)\n",
        "plt.xlabel('Significant Strikes Landed')\n",
        "plt.legend()\n",
        "plt.show()"
      ],
      "execution_count": null,
      "outputs": []
    },
    {
      "cell_type": "code",
      "metadata": {
        "id": "42bl-OR0I8Gp"
      },
      "source": [
        "df_sample = df.sample(450)\n",
        "a = df_sample[['r_avg_sig_str_landed','b_avg_sig_str_landed', 'weight_class', 'winner']]"
      ],
      "execution_count": null,
      "outputs": []
    },
    {
      "cell_type": "code",
      "metadata": {
        "id": "sjmBVmtuJYYE"
      },
      "source": [
        "sns.set_context('paper')\n",
        "sns.pairplot(a, hue='winner')"
      ],
      "execution_count": null,
      "outputs": []
    },
    {
      "cell_type": "code",
      "metadata": {
        "id": "AVuX62Pd51lE"
      },
      "source": [
        "df.loc[(df['r_stance']=='Southpaw')|(['b_stance']=='Orthodox')]['red_wins'].mean()\\\n",
        ",df['red_wins'].mean()"
      ],
      "execution_count": null,
      "outputs": []
    },
    {
      "cell_type": "code",
      "metadata": {
        "id": "FTs_EFPy7IMg"
      },
      "source": [
        "df.loc[(df['b_stance']=='Southpaw')|(['r_stance']=='Orthodox')]['blue_wins'].mean()\\\n",
        ",df['blue_wins'].mean()"
      ],
      "execution_count": null,
      "outputs": []
    },
    {
      "cell_type": "markdown",
      "metadata": {
        "id": "5tZ3sZ8PR34h"
      },
      "source": [
        "#### Do more fights lead to a lessened win chance?\n",
        "- H0 - correlation total_fights/wins == 0\n",
        "- H1 - correlation total_fights/wins < 0 "
      ]
    },
    {
      "cell_type": "code",
      "metadata": {
        "id": "vgU-mXzkpPHE"
      },
      "source": [
        "scipy.stats.linregress(y=df['red_wins'], x=df['r_total_rounds_fought']).slope"
      ],
      "execution_count": null,
      "outputs": []
    },
    {
      "cell_type": "code",
      "metadata": {
        "id": "GfWFyh6LpEQW"
      },
      "source": [
        "p_v =scipy.stats.linregress(y=df['red_wins'], x=df['r_total_rounds_fought']).pvalue\n",
        "\n",
        "assert p_v < 0.05"
      ],
      "execution_count": null,
      "outputs": []
    },
    {
      "cell_type": "code",
      "metadata": {
        "id": "aRqOAHLxTRQp"
      },
      "source": [
        "red_corr = np.corrcoef(df['r_total_rounds_fought'], df['red_wins'])[0,1]\n",
        "ppf = -norm.ppf(0.95)\n",
        "\n",
        "assert red_corr < ppf"
      ],
      "execution_count": null,
      "outputs": []
    },
    {
      "cell_type": "code",
      "metadata": {
        "id": "oacyC1gYS-B7"
      },
      "source": [
        "1 - norm.cdf(red_corr)"
      ],
      "execution_count": null,
      "outputs": []
    },
    {
      "cell_type": "code",
      "metadata": {
        "id": "XRU-RwRj-lsx"
      },
      "source": [
        "np.corrcoef(df['b_total_rounds_fought'], df['blue_wins'])[0,1]"
      ],
      "execution_count": null,
      "outputs": []
    },
    {
      "cell_type": "code",
      "metadata": {
        "id": "6qL8owkPKjRU"
      },
      "source": [
        "fig, ax = plt.subplots( figsize = (6, 6))\n",
        "\n",
        "ax.set_title('Blue Corner Winstreaks')\n",
        "sns.kdeplot(ax=ax, data=df['b_current_win_streak'], color='blue',\n",
        "            label='Blue Corner', shade=True)\n",
        "sns.kdeplot(ax=ax, data=df['r_current_win_streak'], color= 'red',\n",
        "            label='Red Corner', shade=True)\n",
        "ax.set_xlabel('Current winstreak')\n",
        "ax.legend()\n",
        "\n",
        "fig.show()"
      ],
      "execution_count": null,
      "outputs": []
    }
  ]
}